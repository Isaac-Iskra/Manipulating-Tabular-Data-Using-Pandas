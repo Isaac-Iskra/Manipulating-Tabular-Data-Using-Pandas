{
 "cells": [
  {
   "cell_type": "code",
   "execution_count": 1,
   "id": "d9f87836-4296-4cde-a681-ec7bc5e4b5a6",
   "metadata": {},
   "outputs": [],
   "source": [
    "#A Pandas Sereies is a one-dimensional NumPy-like array, with each element having an index.  \n",
    "#A series behaves bery much like a dictionary that includes an index.\n",
    "#To create a series, you first need to import the pandas library and the use the Series Class, as follows:"
   ]
  },
  {
   "cell_type": "code",
   "execution_count": 2,
   "id": "2d3a6dd6-be25-484e-96d3-9471512fc177",
   "metadata": {},
   "outputs": [],
   "source": [
    "import pandas as pd\n"
   ]
  },
  {
   "cell_type": "code",
   "execution_count": 3,
   "id": "b9f9060d-19ef-4203-afb0-4cc174d45741",
   "metadata": {},
   "outputs": [
    {
     "name": "stdout",
     "output_type": "stream",
     "text": [
      "0    1\n",
      "1    2\n",
      "2    3\n",
      "3    4\n",
      "4    5\n",
      "dtype: int64\n"
     ]
    }
   ],
   "source": [
    "series = pd.Series([1, 2, 3, 4, 5])\n",
    "print(series)"
   ]
  },
  {
   "cell_type": "code",
   "execution_count": 4,
   "id": "73982456-02b4-4992-bccc-c0a0ee576ce0",
   "metadata": {},
   "outputs": [],
   "source": [
    "#You can specify an optional index for a series using the index parameter, as follows:"
   ]
  },
  {
   "cell_type": "code",
   "execution_count": 5,
   "id": "b6e11114-acd1-44cd-94ba-ff096a061be2",
   "metadata": {},
   "outputs": [
    {
     "name": "stdout",
     "output_type": "stream",
     "text": [
      "a    1\n",
      "b    2\n",
      "c    3\n",
      "d    4\n",
      "dtype: int64\n"
     ]
    }
   ],
   "source": [
    "series = pd.Series([1, 2, 3, 4], index=['a', 'b', 'c', 'd'])\n",
    "print(series)"
   ]
  },
  {
   "cell_type": "code",
   "execution_count": 6,
   "id": "62341749-e66e-45ed-9f1d-bb60ed745711",
   "metadata": {},
   "outputs": [],
   "source": [
    "#Assessing an element in a series is similar to accessing an element in an array.  You can use the position of the element as follows:"
   ]
  },
  {
   "cell_type": "code",
   "execution_count": 7,
   "id": "627c26e3-47be-40c8-bf2c-958a69916041",
   "metadata": {},
   "outputs": [
    {
     "name": "stdout",
     "output_type": "stream",
     "text": [
      "3\n"
     ]
    }
   ],
   "source": [
    "print(series[2])"
   ]
  },
  {
   "cell_type": "code",
   "execution_count": 8,
   "id": "b7612622-8c63-4f28-99c7-760bf483b1da",
   "metadata": {},
   "outputs": [
    {
     "name": "stdout",
     "output_type": "stream",
     "text": [
      "3\n"
     ]
    }
   ],
   "source": [
    "print(series.iloc[2])"
   ]
  },
  {
   "cell_type": "code",
   "execution_count": 9,
   "id": "aab9c378-04f7-4582-bb29-c338cffe04c1",
   "metadata": {},
   "outputs": [],
   "source": [
    "#The iloc allows you to specify an element via its position."
   ]
  },
  {
   "cell_type": "code",
   "execution_count": 10,
   "id": "946e6fb6-5aef-49fa-ac77-b6729714e965",
   "metadata": {},
   "outputs": [],
   "source": [
    "#Alternatively, you can also specify the value of the index of the element you wish to access like this:"
   ]
  },
  {
   "cell_type": "code",
   "execution_count": 11,
   "id": "f158c489-f654-44d3-9265-583d1ca891d3",
   "metadata": {},
   "outputs": [
    {
     "name": "stdout",
     "output_type": "stream",
     "text": [
      "4\n"
     ]
    }
   ],
   "source": [
    "print(series['d'])"
   ]
  },
  {
   "cell_type": "code",
   "execution_count": 12,
   "id": "f948fe19-9e64-4498-be95-f0286943d37e",
   "metadata": {},
   "outputs": [
    {
     "name": "stdout",
     "output_type": "stream",
     "text": [
      "4\n"
     ]
    }
   ],
   "source": [
    "print(series.loc['d'])"
   ]
  },
  {
   "cell_type": "code",
   "execution_count": 13,
   "id": "9a01c146-2f15-4fa6-8df2-f5f637a6e9ad",
   "metadata": {},
   "outputs": [],
   "source": [
    "#You can perform slicing on a series, as follows:"
   ]
  },
  {
   "cell_type": "code",
   "execution_count": 14,
   "id": "2f559327-13f5-4432-8351-416550085da8",
   "metadata": {},
   "outputs": [
    {
     "name": "stdout",
     "output_type": "stream",
     "text": [
      "c    3\n",
      "d    4\n",
      "dtype: int64\n"
     ]
    }
   ],
   "source": [
    "print(series[2:])"
   ]
  },
  {
   "cell_type": "code",
   "execution_count": 15,
   "id": "86098432-db7d-42fa-bd12-914b89164a46",
   "metadata": {},
   "outputs": [],
   "source": [
    "#Often, you want to create a timeseries, such as running sequences of dates in a month.  You could use the date_range() function for this purpose, as follows:"
   ]
  },
  {
   "cell_type": "code",
   "execution_count": 16,
   "id": "c0e4e2a3-73fb-453c-b181-03b240651983",
   "metadata": {},
   "outputs": [
    {
     "name": "stdout",
     "output_type": "stream",
     "text": [
      "DatetimeIndex(['2019-05-25', '2019-05-26', '2019-05-27', '2019-05-28',\n",
      "               '2019-05-29', '2019-05-30', '2019-05-31', '2019-06-01',\n",
      "               '2019-06-02', '2019-06-03', '2019-06-04', '2019-06-05'],\n",
      "              dtype='datetime64[ns]', freq='D')\n"
     ]
    }
   ],
   "source": [
    "dates1 = pd.date_range('20190525', periods=12)\n",
    "print(dates1)"
   ]
  },
  {
   "cell_type": "code",
   "execution_count": 17,
   "id": "f72218eb-6927-4633-9b67-222ba50dcfa8",
   "metadata": {},
   "outputs": [],
   "source": [
    "#To assign the range of dates as the index of a series, use the index property of the series as follows:"
   ]
  },
  {
   "cell_type": "code",
   "execution_count": 18,
   "id": "73bd7613-5919-44ba-8fcc-d75004572e12",
   "metadata": {},
   "outputs": [
    {
     "name": "stdout",
     "output_type": "stream",
     "text": [
      "2019-05-25     1\n",
      "2019-05-26     2\n",
      "2019-05-27     3\n",
      "2019-05-28     4\n",
      "2019-05-29     5\n",
      "2019-05-30     6\n",
      "2019-05-31     7\n",
      "2019-06-01     8\n",
      "2019-06-02     9\n",
      "2019-06-03    10\n",
      "2019-06-04    11\n",
      "2019-06-05    12\n",
      "Freq: D, dtype: int64\n"
     ]
    }
   ],
   "source": [
    "series = pd.Series([1, 2, 3, 4, 5, 6, 7, 8, 9, 10, 11, 12])\n",
    "series.index = dates1\n",
    "print(series)"
   ]
  },
  {
   "cell_type": "code",
   "execution_count": 19,
   "id": "c3024675-3927-4fca-b9b0-f096ad9c9d7d",
   "metadata": {},
   "outputs": [],
   "source": [
    "#Date Ranges.  The periods parameter specifies how many dates you want to create, and the default frequecy is D, for Daily.  \n",
    "#If you want to change the frequency to month, use the freq parameter and set it to M, as follows:"
   ]
  },
  {
   "cell_type": "code",
   "execution_count": 20,
   "id": "16e99c43-4619-430a-9ca7-f09cabf95a4f",
   "metadata": {},
   "outputs": [
    {
     "name": "stdout",
     "output_type": "stream",
     "text": [
      "DatetimeIndex(['2019-05-31', '2019-06-30', '2019-07-31', '2019-08-31',\n",
      "               '2019-09-30', '2019-10-31', '2019-11-30', '2019-12-31',\n",
      "               '2020-01-31', '2020-02-29', '2020-03-31', '2020-04-30'],\n",
      "              dtype='datetime64[ns]', freq='M')\n"
     ]
    }
   ],
   "source": [
    "dates2 = pd.date_range('20190525', periods=12, freq = 'M')\n",
    "print(dates2)"
   ]
  },
  {
   "cell_type": "code",
   "execution_count": 21,
   "id": "49d57367-72bb-416a-a0d2-31f64a4f13e3",
   "metadata": {},
   "outputs": [],
   "source": [
    "#You can specify the date as follows:"
   ]
  },
  {
   "cell_type": "code",
   "execution_count": 22,
   "id": "68e62eaf-6a80-450e-8325-32bafb2e89ed",
   "metadata": {},
   "outputs": [
    {
     "name": "stdout",
     "output_type": "stream",
     "text": [
      "DatetimeIndex(['2019-05-01', '2019-06-01', '2019-07-01', '2019-08-01',\n",
      "               '2019-09-01', '2019-10-01', '2019-11-01', '2019-12-01',\n",
      "               '2020-01-01', '2020-02-01', '2020-03-01', '2020-04-01'],\n",
      "              dtype='datetime64[ns]', freq='MS')\n"
     ]
    }
   ],
   "source": [
    "dates3 = pd.date_range('05-01-2019', periods=12, freq = 'MS')\n",
    "print(dates3)"
   ]
  },
  {
   "cell_type": "code",
   "execution_count": 23,
   "id": "0b4054b0-b173-4871-966e-c0a5d19f1801",
   "metadata": {},
   "outputs": [],
   "source": [
    "#In addition, you can also set the time, as follows:"
   ]
  },
  {
   "cell_type": "code",
   "execution_count": 24,
   "id": "fdd8e961-69f8-4844-88fd-8ede74f156a8",
   "metadata": {},
   "outputs": [
    {
     "name": "stdout",
     "output_type": "stream",
     "text": [
      "DatetimeIndex(['2019-05-17 09:00:00', '2019-05-17 10:00:00',\n",
      "               '2019-05-17 11:00:00', '2019-05-17 12:00:00',\n",
      "               '2019-05-17 13:00:00', '2019-05-17 14:00:00',\n",
      "               '2019-05-17 15:00:00', '2019-05-17 16:00:00'],\n",
      "              dtype='datetime64[ns]', freq='H')\n"
     ]
    }
   ],
   "source": [
    "dates4 = pd.date_range('2019/05/17 09:00:00', periods=8, freq='H')\n",
    "print(dates4)"
   ]
  },
  {
   "cell_type": "code",
   "execution_count": 25,
   "id": "69d7ae8a-86ac-43bd-b1be-cb3a519a67d9",
   "metadata": {},
   "outputs": [],
   "source": [
    "#DataFrames is very useful in the world of data science and machine learning, as it closely mirrors how data is stored ni real life."
   ]
  },
  {
   "cell_type": "code",
   "execution_count": 26,
   "id": "c9f2364b-ad6f-40b3-948c-84358e792ca9",
   "metadata": {},
   "outputs": [],
   "source": [
    "#Creating a DataFrame"
   ]
  },
  {
   "cell_type": "code",
   "execution_count": 27,
   "id": "b439503e-2734-4e47-8ca2-b7a649640e27",
   "metadata": {},
   "outputs": [],
   "source": [
    "#You can create a Pandas DataFrame using the DataFrame() classic:"
   ]
  },
  {
   "cell_type": "code",
   "execution_count": 28,
   "id": "7a43b7a8-ade2-4be2-b89d-8496d7dab2de",
   "metadata": {},
   "outputs": [],
   "source": [
    "import pandas as pd\n",
    "import numpy as np"
   ]
  },
  {
   "cell_type": "code",
   "execution_count": 29,
   "id": "4aa5d45c-cdc4-45e6-8660-30c8ba6eaabc",
   "metadata": {},
   "outputs": [
    {
     "name": "stdout",
     "output_type": "stream",
     "text": [
      "          A         B         C         D\n",
      "0 -0.403085  2.073766 -2.612140  0.343401\n",
      "1  0.478953 -1.461931  0.596474  0.223021\n",
      "2 -0.149036 -0.637716  0.044890 -0.818173\n",
      "3 -0.339224 -0.468766  0.548478  1.797544\n",
      "4 -0.729877  1.671328 -0.461578 -2.218269\n",
      "5  0.678028 -0.369176 -2.221671  1.862874\n",
      "6 -0.605162  1.152462 -0.929371 -1.401879\n",
      "7 -0.859455 -0.289253 -0.535201 -0.131098\n",
      "8 -0.831198  0.242815 -0.149576 -0.199087\n",
      "9 -0.554079 -0.695258  0.810425  0.123284\n"
     ]
    }
   ],
   "source": [
    "df = pd.DataFrame(np.random.randn(10, 4),\n",
    "                  columns=list('ABCD'))\n",
    "print(df)"
   ]
  },
  {
   "cell_type": "code",
   "execution_count": 30,
   "id": "0cc9cf38-4e04-4ef7-944c-fa2a05a2e7a7",
   "metadata": {},
   "outputs": [],
   "source": [
    "#More often than not, a DataFrame i loaded with the content of a CSV file.  We can read in a CSV file as follows:"
   ]
  },
  {
   "cell_type": "code",
   "execution_count": null,
   "id": "08d437ba-6f4e-4f8d-8694-51b4d9133342",
   "metadata": {},
   "outputs": [],
   "source": [
    "df = pd.read_csv('data.csv')"
   ]
  },
  {
   "cell_type": "code",
   "execution_count": null,
   "id": "d0bf70df-9878-4372-b2a0-40b9af2626ed",
   "metadata": {},
   "outputs": [],
   "source": [
    "#You can set the index for the DataFrame as follows:"
   ]
  },
  {
   "cell_type": "code",
   "execution_count": null,
   "id": "ef1fb498-9ca5-4821-8999-6ed66ba48438",
   "metadata": {},
   "outputs": [],
   "source": [
    "df = pd.read_csv('data.csv')\n",
    "days = pd.date_range('20190525', periods = 10)\n",
    "df.index = days\n",
    "print(df)"
   ]
  },
  {
   "cell_type": "code",
   "execution_count": null,
   "id": "4b3393ac-adae-4d84-b196-1679a888f253",
   "metadata": {},
   "outputs": [],
   "source": [
    "#To get the index of the DataFrame, use the index property as follows:"
   ]
  },
  {
   "cell_type": "code",
   "execution_count": null,
   "id": "2a03cef3-981b-4a7f-9efb-855f2be5b8f6",
   "metadata": {},
   "outputs": [],
   "source": [
    "print(df.index)"
   ]
  },
  {
   "cell_type": "code",
   "execution_count": null,
   "id": "0bdde6b1-3541-4255-ba2c-8d3fac1cb773",
   "metadata": {},
   "outputs": [],
   "source": [
    "#If you want to get the values of the entire DataFrame as a two-dimensional ndarray, use the values property, as follows:"
   ]
  },
  {
   "cell_type": "code",
   "execution_count": null,
   "id": "6b02d334-0efb-49ca-8976-e0891603c740",
   "metadata": {},
   "outputs": [],
   "source": [
    "print(df.values)"
   ]
  },
  {
   "cell_type": "code",
   "execution_count": null,
   "id": "67696e09-e6ba-44da-9240-f0efe8b5b7a1",
   "metadata": {},
   "outputs": [],
   "source": [
    "#Generating descriptive statistics on the DataFrame\n",
    "\n",
    "#You can use describe(), as follows:"
   ]
  },
  {
   "cell_type": "code",
   "execution_count": null,
   "id": "75ef2658-802b-4fb2-ade2-df4eb7928093",
   "metadata": {},
   "outputs": [],
   "source": [
    "print(df.describe())"
   ]
  },
  {
   "cell_type": "code",
   "execution_count": null,
   "id": "c81d58c4-0e85-4de1-bb28-e2ffd9bbe2f5",
   "metadata": {},
   "outputs": [],
   "source": [
    "#You can compute the mean of the function, as follows:"
   ]
  },
  {
   "cell_type": "code",
   "execution_count": null,
   "id": "395e9d7a-b16d-4c3f-84fb-62dd088620fb",
   "metadata": {},
   "outputs": [],
   "source": [
    "print(df.mean(0)) #0 is the column.  You can replace 0 with any numbered column and it will give you the result."
   ]
  },
  {
   "cell_type": "code",
   "execution_count": null,
   "id": "914859db-86dd-4263-855b-d6ac42e79c41",
   "metadata": {},
   "outputs": [],
   "source": [
    "#Extracting from DataFrames"
   ]
  },
  {
   "cell_type": "code",
   "execution_count": null,
   "id": "58968ffe-039f-460b-81eb-9432f0c576d0",
   "metadata": {},
   "outputs": [],
   "source": [
    "#Slicing based on row number.  If you wis hto extract specific rows and columns in a dataframe, you need to use the iloc indexer.  \n",
    "#The following code snippet extracts rwo numbers 2 and 3, and column numbers 1 to 3:"
   ]
  },
  {
   "cell_type": "code",
   "execution_count": null,
   "id": "9ede8f48-c0ff-4a9b-b616-e5d79771e792",
   "metadata": {},
   "outputs": [],
   "source": [
    "print(df.iloc[2:4, 1:4]"
   ]
  },
  {
   "cell_type": "code",
   "execution_count": null,
   "id": "8dfc7e1d-ea14-4a6d-9074-823bacb1a223",
   "metadata": {},
   "outputs": [],
   "source": [
    "#Slicing based on Labels\n",
    "#Besides extracting rows and columns using their row and column numbers, you can also extract them by label.  \n",
    "#For example, the following code snippet extracts a range of rows using their index values:"
   ]
  },
  {
   "cell_type": "code",
   "execution_count": null,
   "id": "b373a28d-2ba3-4dce-96b3-fd7258692256",
   "metadata": {},
   "outputs": [],
   "source": [
    "print(df.lo['20190601' : '20190601', 'A':'C']"
   ]
  },
  {
   "cell_type": "code",
   "execution_count": null,
   "id": "418eb97d-a6e2-43b1-bb4f-f21695ebfa33",
   "metadata": {},
   "outputs": [],
   "source": [
    "#Oddly, if you want to extract specific rows with datetime as the index, you cannot simply pass the date value to the loc indexer.\n",
    "#First you need to convert the date into a datetime format, as follows:"
   ]
  },
  {
   "cell_type": "code",
   "execution_count": null,
   "id": "12fb45f6-e068-44a9-9441-774e9474e444",
   "metadata": {},
   "outputs": [],
   "source": [
    "from datetime import datetime\n",
    "date1 = datetime(2019, 6, 1, 0, 0, 0)\n",
    "date2 = datetime(2019, 6, 3, 0, 0, 0)\n",
    "print(df.loc[[date1,date2]])"
   ]
  },
  {
   "cell_type": "code",
   "execution_count": 34,
   "id": "8f4096ef-a553-4ab0-b755-133f37edab2d",
   "metadata": {},
   "outputs": [],
   "source": [
    "#If you want a specific row and specific columns, you can extract them as follows:"
   ]
  },
  {
   "cell_type": "code",
   "execution_count": null,
   "id": "eca9c87b-21fe-44b4-bb02-c81a0ea19386",
   "metadata": {},
   "outputs": [],
   "source": [
    "print(df.loc[date1, ['A','C']])"
   ]
  },
  {
   "cell_type": "code",
   "execution_count": 36,
   "id": "9951144b-e974-48e1-8d0d-3720af26241e",
   "metadata": {},
   "outputs": [],
   "source": [
    "#Selecting a Single Cell in a DataFrame\n",
    "\n",
    "#If you simply wish to access a single cell in a dataframe, there is a function that does just that at ().\n",
    "#Using the same example as in the previous section, if you want to get the value of a specific cell, you can use the following code snippet:"
   ]
  },
  {
   "cell_type": "code",
   "execution_count": null,
   "id": "1bd81e54-6b0a-437d-afb9-cb7d20dc0029",
   "metadata": {},
   "outputs": [],
   "source": [
    "from datetime import datetime\n",
    "d = datetime(2016, 6, 3, 0, 0, 0)\n",
    "print(df.at[d,'B'])"
   ]
  },
  {
   "cell_type": "code",
   "execution_count": null,
   "id": "3ccc25e9-71b4-4906-89f9-0b7334cad775",
   "metadata": {},
   "outputs": [],
   "source": [
    "#Selecting based on Cell value\n",
    "\n",
    "print(df[(df.A > 0) & (df.B > 0)])"
   ]
  },
  {
   "cell_type": "code",
   "execution_count": null,
   "id": "76170aa0-a606-4f68-be40-f341b1a7c3cd",
   "metadata": {},
   "outputs": [],
   "source": [
    "#Transforming DataFrames.\n",
    "\n",
    "#If you need to reflect the dataframe over its main diagonal, you can use the transpose() function as follows:\n",
    "\n",
    "print(df.transpose())\n",
    "\n",
    "#Alternatively, you can use the T property, which is an accessor o the transpose() function, as follows:\n",
    "\n",
    "print(df.T)"
   ]
  },
  {
   "cell_type": "code",
   "execution_count": null,
   "id": "c2bd845a-1534-4546-97b6-551f77b79890",
   "metadata": {},
   "outputs": [],
   "source": [
    "#Checking to see if a result is a dataframe or series\n",
    "\n",
    "#One of the common problems that you will face with Pandas is knowing if the result that you have obtained is a series or a dataframe.  \n",
    "#To solve this mystery, here is a function that can make your life easier:\n",
    "\n",
    "der checkSeriesOrDataframe(var) :\n",
    "    if isinstance(var, pd.DataFrame):\n",
    "        return 'DataFrame'\n",
    "    if isinstance(var, pd.Series) :\n",
    "        return 'Series'"
   ]
  },
  {
   "cell_type": "code",
   "execution_count": null,
   "id": "15cb6dc1-2141-4188-aa42-897797a1c9f1",
   "metadata": {},
   "outputs": [],
   "source": [
    "#Sorting Data in a DataFrame\n",
    "\n",
    "#There are two ways that you can sort the data in a DataFrame.\n",
    "#1) sort labels using the sort_index() function\n",
    "#2) sort by value using the sort_values() function\n",
    "\n",
    "#Sorting using index as follows:\n",
    "\n",
    "print(df.sort_index(axis=0, ascending=False)\n",
    "      \n",
    "#Setting asix = 1 means that you're sorting by common labels.\n",
    "      \n",
    "#Sorting by value as follows:\n",
    "      \n",
    "print(df.sort_values('A', asix = 0)\n",
    "\n",
    "#To sort based on a particular index, set the asix parameter to 1."
   ]
  },
  {
   "cell_type": "code",
   "execution_count": null,
   "id": "ff8da66d-17ff-4c86-aaa2-49468363b0ae",
   "metadata": {},
   "outputs": [],
   "source": [
    "#Applying Functions to a DataFrame.\n",
    "\n",
    "#You can also apply functions to values in a DataFrame using the apply() function.  \n",
    "#First, let's define the two lambda functions as follows:\n",
    "\n",
    "import math\n",
    "sq_root = lambda x: math.sqrt(x) if x > 0 else X\n",
    "sq      = lambda x: x**2\n",
    "\n",
    "#We can now apply the functions to the DataFrame, as follows:\n",
    "\n",
    "print(df.B.apply(sq_root)\n",
    "\n",
    "      #or\n",
    "      \n",
    "print(df.B.apply(sq))\n",
    "      \n",
    "      \n",
    "#If you want to apply the square root function to the entire DataFrame, you can iterate through the columns and pply the function to each column, as follows:\n",
    "      \n",
    "      \n",
    "for column in df:\n",
    "      df[column] = df[column].apply(sq_root)\n",
    "print(df)"
   ]
  },
  {
   "cell_type": "code",
   "execution_count": null,
   "id": "04cf0ea6-e660-4299-90fa-7bbed974ca45",
   "metadata": {},
   "outputs": [],
   "source": [
    "#Generating a Crosstab\n",
    "\n",
    "#In statistics, aa crosstab is used to aggregate and jointly display the distribution of two or more variables.  It shows the relationships between these variables.\n",
    "#Consider the followin\n",
    "\n",
    "df = pd.DataFrame(\n",
    "    {\n",
    "        \"Gender\": ['Male', 'Male', 'Female', 'Female', 'Female'] ,\n",
    "        \"Team\"  : [1, 2, 3, 4, 5]\n",
    "    })\n",
    "print(df)\n",
    "\n",
    "#Here you're creating a DataFrame using a dictionary."
   ]
  }
 ],
 "metadata": {
  "kernelspec": {
   "display_name": "Python 3 (ipykernel)",
   "language": "python",
   "name": "python3"
  },
  "language_info": {
   "codemirror_mode": {
    "name": "ipython",
    "version": 3
   },
   "file_extension": ".py",
   "mimetype": "text/x-python",
   "name": "python",
   "nbconvert_exporter": "python",
   "pygments_lexer": "ipython3",
   "version": "3.8.8"
  }
 },
 "nbformat": 4,
 "nbformat_minor": 5
}
